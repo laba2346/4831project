{
 "cells": [
  {
   "cell_type": "code",
   "execution_count": 7,
   "metadata": {},
   "outputs": [
    {
     "data": {
      "text/html": [
       "<div>\n",
       "<style>\n",
       "    .dataframe thead tr:only-child th {\n",
       "        text-align: right;\n",
       "    }\n",
       "\n",
       "    .dataframe thead th {\n",
       "        text-align: left;\n",
       "    }\n",
       "\n",
       "    .dataframe tbody tr th {\n",
       "        vertical-align: top;\n",
       "    }\n",
       "</style>\n",
       "<table border=\"1\" class=\"dataframe\">\n",
       "  <thead>\n",
       "    <tr style=\"text-align: right;\">\n",
       "      <th></th>\n",
       "      <th>playerID</th>\n",
       "      <th>retroID</th>\n",
       "      <th>kscore</th>\n",
       "      <th>totalgames</th>\n",
       "      <th>totalhits</th>\n",
       "      <th>totalwins</th>\n",
       "      <th>totalER</th>\n",
       "      <th>totalinnings</th>\n",
       "      <th>totalERA</th>\n",
       "    </tr>\n",
       "  </thead>\n",
       "  <tbody>\n",
       "    <tr>\n",
       "      <th>0</th>\n",
       "      <td>aardsda01</td>\n",
       "      <td>aardd001</td>\n",
       "      <td>7.473276</td>\n",
       "      <td>97</td>\n",
       "      <td>73</td>\n",
       "      <td>2</td>\n",
       "      <td>39</td>\n",
       "      <td>89</td>\n",
       "      <td>3.9438</td>\n",
       "    </tr>\n",
       "    <tr>\n",
       "      <th>1</th>\n",
       "      <td>abadfe01</td>\n",
       "      <td>abadf001</td>\n",
       "      <td>7.053170</td>\n",
       "      <td>127</td>\n",
       "      <td>141</td>\n",
       "      <td>1</td>\n",
       "      <td>62</td>\n",
       "      <td>120</td>\n",
       "      <td>4.6500</td>\n",
       "    </tr>\n",
       "    <tr>\n",
       "      <th>2</th>\n",
       "      <td>accarje01</td>\n",
       "      <td>accaj001</td>\n",
       "      <td>4.948913</td>\n",
       "      <td>63</td>\n",
       "      <td>97</td>\n",
       "      <td>3</td>\n",
       "      <td>50</td>\n",
       "      <td>80</td>\n",
       "      <td>5.6250</td>\n",
       "    </tr>\n",
       "    <tr>\n",
       "      <th>3</th>\n",
       "      <td>aceveal01</td>\n",
       "      <td>aceva001</td>\n",
       "      <td>4.210223</td>\n",
       "      <td>145</td>\n",
       "      <td>216</td>\n",
       "      <td>19</td>\n",
       "      <td>107</td>\n",
       "      <td>245</td>\n",
       "      <td>3.9306</td>\n",
       "    </tr>\n",
       "    <tr>\n",
       "      <th>4</th>\n",
       "      <td>acostma01</td>\n",
       "      <td>acosm001</td>\n",
       "      <td>6.350941</td>\n",
       "      <td>130</td>\n",
       "      <td>128</td>\n",
       "      <td>8</td>\n",
       "      <td>65</td>\n",
       "      <td>132</td>\n",
       "      <td>4.4318</td>\n",
       "    </tr>\n",
       "  </tbody>\n",
       "</table>\n",
       "</div>"
      ],
      "text/plain": [
       "    playerID   retroID    kscore  totalgames  totalhits  totalwins  totalER  \\\n",
       "0  aardsda01  aardd001  7.473276          97         73          2       39   \n",
       "1   abadfe01  abadf001  7.053170         127        141          1       62   \n",
       "2  accarje01  accaj001  4.948913          63         97          3       50   \n",
       "3  aceveal01  aceva001  4.210223         145        216         19      107   \n",
       "4  acostma01  acosm001  6.350941         130        128          8       65   \n",
       "\n",
       "   totalinnings  totalERA  \n",
       "0            89    3.9438  \n",
       "1           120    4.6500  \n",
       "2            80    5.6250  \n",
       "3           245    3.9306  \n",
       "4           132    4.4318  "
      ]
     },
     "execution_count": 7,
     "metadata": {},
     "output_type": "execute_result"
    }
   ],
   "source": [
    "import numpy as np \n",
    "import pandas as pd\n",
    "import matplotlib.pylab as plt\n",
    "%matplotlib inline\n",
    "\n",
    "local_path = './kscoreVSothers.csv'\n",
    "\n",
    "dfTW= pd.read_csv(local_path)\n",
    "\n",
    "dfTW.head()"
   ]
  },
  {
   "cell_type": "code",
   "execution_count": 8,
   "metadata": {},
   "outputs": [
    {
     "data": {
      "text/plain": [
       "Text(0.5,1,'K Score vs ERA')"
      ]
     },
     "execution_count": 8,
     "metadata": {},
     "output_type": "execute_result"
    },
    {
     "data": {
      "image/png": "[encoded data removed]",
      "text/plain": [
       "<matplotlib.figure.Figure at 0x10cd03da0>"
      ]
     },
     "metadata": {},
     "output_type": "display_data"
    }
   ],
   "source": [
    "fig, axes = plt.subplots(nrows=1, ncols=1, figsize=(6,6))\n",
    "axes.scatter(dfTW[\"kscore\"], dfTW[\"totalERA\"], color = \"steelblue\")\n",
    "axes.grid(alpha=0.25)\n",
    "axes.set_xlabel(\"K Score\", fontsize=16)\n",
    "axes.set_ylabel(\"ERA\", fontsize=16)\n",
    "axes.set_title(\"K Score vs ERA\", fontsize=16)"
   ]
  },
  {
   "cell_type": "code",
   "execution_count": 9,
   "metadata": {},
   "outputs": [
    {
     "data": {
      "text/plain": [
       "-0.44516197637621469"
      ]
     },
     "execution_count": 9,
     "metadata": {},
     "output_type": "execute_result"
    }
   ],
   "source": [
    "dfTW['kscore'].corr(dfTW['totalERA'], method='pearson')"
   ]
  },
  {
   "cell_type": "code",
   "execution_count": 10,
   "metadata": {},
   "outputs": [
    {
     "data": {
      "text/plain": [
       "-0.17987924530770183"
      ]
     },
     "execution_count": 10,
     "metadata": {},
     "output_type": "execute_result"
    }
   ],
   "source": [
    "dfTW['kscore'].corr(dfTW['totalhits'], method='pearson')"
   ]
  },
  {
   "cell_type": "code",
   "execution_count": 11,
   "metadata": {},
   "outputs": [
    {
     "data": {
      "text/plain": [
       "-0.050136341592945555"
      ]
     },
     "execution_count": 11,
     "metadata": {},
     "output_type": "execute_result"
    }
   ],
   "source": [
    "dfTW['kscore'].corr(dfTW['totalwins'], method='pearson')"
   ]
  },
  {
   "cell_type": "code",
   "execution_count": null,
   "metadata": {
    "collapsed": true
   },
   "outputs": [],
   "source": []
  }
 ],
 "metadata": {
  "kernelspec": {
   "display_name": "Python 3",
   "language": "python",
   "name": "python3"
  },
  "language_info": {
   "codemirror_mode": {
    "name": "ipython",
    "version": 3
   },
   "file_extension": ".py",
   "mimetype": "text/x-python",
   "name": "python",
   "nbconvert_exporter": "python",
   "pygments_lexer": "ipython3",
   "version": "3.6.3"
  }
 },
 "nbformat": 4,
 "nbformat_minor": 2
}
